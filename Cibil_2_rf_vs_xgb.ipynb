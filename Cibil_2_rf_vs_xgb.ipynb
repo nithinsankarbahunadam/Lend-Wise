{
  "cells": [
    {
      "cell_type": "code",
      "execution_count": 61,
      "metadata": {
        "colab": {
          "base_uri": "https://localhost:8080/"
        },
        "id": "OncjZ2Vv86aQ",
        "outputId": "896d9028-5328-4e7d-dd65-50b0b6c5be02"
      },
      "outputs": [
        {
          "output_type": "stream",
          "name": "stdout",
          "text": [
            "Requirement already satisfied: shap in /usr/local/lib/python3.11/dist-packages (0.47.1)\n",
            "Requirement already satisfied: numpy in /usr/local/lib/python3.11/dist-packages (from shap) (2.0.2)\n",
            "Requirement already satisfied: scipy in /usr/local/lib/python3.11/dist-packages (from shap) (1.14.1)\n",
            "Requirement already satisfied: scikit-learn in /usr/local/lib/python3.11/dist-packages (from shap) (1.6.1)\n",
            "Requirement already satisfied: pandas in /usr/local/lib/python3.11/dist-packages (from shap) (2.2.2)\n",
            "Requirement already satisfied: tqdm>=4.27.0 in /usr/local/lib/python3.11/dist-packages (from shap) (4.67.1)\n",
            "Requirement already satisfied: packaging>20.9 in /usr/local/lib/python3.11/dist-packages (from shap) (24.2)\n",
            "Requirement already satisfied: slicer==0.0.8 in /usr/local/lib/python3.11/dist-packages (from shap) (0.0.8)\n",
            "Requirement already satisfied: numba>=0.54 in /usr/local/lib/python3.11/dist-packages (from shap) (0.60.0)\n",
            "Requirement already satisfied: cloudpickle in /usr/local/lib/python3.11/dist-packages (from shap) (3.1.1)\n",
            "Requirement already satisfied: typing-extensions in /usr/local/lib/python3.11/dist-packages (from shap) (4.13.2)\n",
            "Requirement already satisfied: llvmlite<0.44,>=0.43.0dev0 in /usr/local/lib/python3.11/dist-packages (from numba>=0.54->shap) (0.43.0)\n",
            "Requirement already satisfied: python-dateutil>=2.8.2 in /usr/local/lib/python3.11/dist-packages (from pandas->shap) (2.8.2)\n",
            "Requirement already satisfied: pytz>=2020.1 in /usr/local/lib/python3.11/dist-packages (from pandas->shap) (2025.2)\n",
            "Requirement already satisfied: tzdata>=2022.7 in /usr/local/lib/python3.11/dist-packages (from pandas->shap) (2025.2)\n",
            "Requirement already satisfied: joblib>=1.2.0 in /usr/local/lib/python3.11/dist-packages (from scikit-learn->shap) (1.4.2)\n",
            "Requirement already satisfied: threadpoolctl>=3.1.0 in /usr/local/lib/python3.11/dist-packages (from scikit-learn->shap) (3.6.0)\n",
            "Requirement already satisfied: six>=1.5 in /usr/local/lib/python3.11/dist-packages (from python-dateutil>=2.8.2->pandas->shap) (1.17.0)\n"
          ]
        }
      ],
      "source": [
        "!pip install shap"
      ]
    },
    {
      "cell_type": "code",
      "execution_count": 62,
      "metadata": {
        "id": "ZVxRqKHu-epw"
      },
      "outputs": [],
      "source": [
        "import pandas as pd\n",
        "import joblib\n",
        "from sklearn.model_selection import train_test_split\n",
        "from sklearn.preprocessing import StandardScaler, LabelEncoder\n",
        "from sklearn.ensemble import RandomForestClassifier\n",
        "from xgboost import XGBClassifier\n",
        "from sklearn.metrics import classification_report\n",
        "from sklearn.pipeline import Pipeline\n",
        "from sklearn.compose import ColumnTransformer\n",
        "from sklearn.preprocessing import OneHotEncoder\n",
        "from sklearn.metrics import accuracy_score, classification_report, confusion_matrix, ConfusionMatrixDisplay\n",
        "from sklearn.model_selection import GridSearchCV\n",
        "import matplotlib.pyplot as plt\n",
        "import numpy as np\n",
        "import seaborn as sns\n",
        "import shap"
      ]
    },
    {
      "cell_type": "code",
      "execution_count": 63,
      "metadata": {
        "colab": {
          "base_uri": "https://localhost:8080/"
        },
        "id": "TjZ9qeEo9-wu",
        "outputId": "c07fc0b4-c65e-4cb6-8e34-f4d70cfa183f"
      },
      "outputs": [
        {
          "output_type": "stream",
          "name": "stdout",
          "text": [
            "Drive already mounted at /content/drive/; to attempt to forcibly remount, call drive.mount(\"/content/drive/\", force_remount=True).\n"
          ]
        }
      ],
      "source": [
        "from google.colab import drive\n",
        "drive.mount('/content/drive/')"
      ]
    },
    {
      "cell_type": "code",
      "execution_count": 64,
      "metadata": {
        "id": "PQwkZNtFDTv5"
      },
      "outputs": [],
      "source": [
        "file_path = '/content/drive/My Drive/Cibil/Master_Loan_Summary.csv'"
      ]
    },
    {
      "cell_type": "code",
      "execution_count": 65,
      "metadata": {
        "colab": {
          "base_uri": "https://localhost:8080/"
        },
        "id": "b1hKs72s9QUy",
        "outputId": "e22f2b89-e18a-476b-b4e0-a08ed45d80a4"
      },
      "outputs": [
        {
          "output_type": "stream",
          "name": "stderr",
          "text": [
            "<ipython-input-65-47c250c455f0>:1: DtypeWarning: Columns (7) have mixed types. Specify dtype option on import or set low_memory=False.\n",
            "  df = pd.read_csv(file_path)\n"
          ]
        }
      ],
      "source": [
        "df = pd.read_csv(file_path)"
      ]
    },
    {
      "cell_type": "code",
      "execution_count": 66,
      "metadata": {
        "colab": {
          "base_uri": "https://localhost:8080/",
          "height": 226
        },
        "id": "YQAa_0VW9tuR",
        "outputId": "ca83b9f7-96b6-4c30-c10d-669a504733c0"
      },
      "outputs": [
        {
          "output_type": "execute_result",
          "data": {
            "text/plain": [
              "   loan_number  amount_borrowed  term  borrower_rate  installment grade  \\\n",
              "0     10149342          27050.0    36         0.1099       885.46     B   \n",
              "1     10149488           4800.0    36         0.1099       157.13     B   \n",
              "2     10148122          12000.0    36         0.0762       373.94     A   \n",
              "3     10119623          12000.0    36         0.1199       398.52     B   \n",
              "4     10159498          12000.0    36         0.0662       368.45     A   \n",
              "\n",
              "   origination_date       listing_title  principal_balance  principal_paid  \\\n",
              "0  2013-12-01T00:00  debt_consolidation                0.0         27050.0   \n",
              "1  2013-12-01T00:00    home_improvement                0.0          4800.0   \n",
              "2  2013-12-01T00:00  debt_consolidation                0.0         12000.0   \n",
              "3  2013-12-01T00:00  debt_consolidation                0.0         12000.0   \n",
              "4  2013-12-01T00:00  debt_consolidation                0.0         12000.0   \n",
              "\n",
              "   interest_paid  late_fees_paid  debt_sale_proceeds_received  \\\n",
              "0        4702.53             0.0                          0.0   \n",
              "1         357.52             0.0                          0.0   \n",
              "2        1397.54             0.0                          0.0   \n",
              "3        2346.48             0.0                          0.0   \n",
              "4        1263.95             0.0                          0.0   \n",
              "\n",
              "  last_payment_date next_payment_due_date  days_past_due  \\\n",
              "0  2016-07-01T00:00      2016-08-01T00:00              0   \n",
              "1  2014-09-01T00:00      2014-10-01T00:00              0   \n",
              "2  2016-06-01T00:00      2016-07-01T00:00              0   \n",
              "3  2017-01-01T00:00      2017-02-01T00:00              0   \n",
              "4  2017-01-01T00:00      2017-02-01T00:00              0   \n",
              "\n",
              "  loan_status_description   data_source  \n",
              "0               COMPLETED  Lending Club  \n",
              "1               COMPLETED  Lending Club  \n",
              "2               COMPLETED  Lending Club  \n",
              "3               COMPLETED  Lending Club  \n",
              "4               COMPLETED  Lending Club  "
            ],
            "text/html": [
              "\n",
              "  <div id=\"df-7f99a166-31e1-41e7-9d1b-e52f76819113\" class=\"colab-df-container\">\n",
              "    <div>\n",
              "<style scoped>\n",
              "    .dataframe tbody tr th:only-of-type {\n",
              "        vertical-align: middle;\n",
              "    }\n",
              "\n",
              "    .dataframe tbody tr th {\n",
              "        vertical-align: top;\n",
              "    }\n",
              "\n",
              "    .dataframe thead th {\n",
              "        text-align: right;\n",
              "    }\n",
              "</style>\n",
              "<table border=\"1\" class=\"dataframe\">\n",
              "  <thead>\n",
              "    <tr style=\"text-align: right;\">\n",
              "      <th></th>\n",
              "      <th>loan_number</th>\n",
              "      <th>amount_borrowed</th>\n",
              "      <th>term</th>\n",
              "      <th>borrower_rate</th>\n",
              "      <th>installment</th>\n",
              "      <th>grade</th>\n",
              "      <th>origination_date</th>\n",
              "      <th>listing_title</th>\n",
              "      <th>principal_balance</th>\n",
              "      <th>principal_paid</th>\n",
              "      <th>interest_paid</th>\n",
              "      <th>late_fees_paid</th>\n",
              "      <th>debt_sale_proceeds_received</th>\n",
              "      <th>last_payment_date</th>\n",
              "      <th>next_payment_due_date</th>\n",
              "      <th>days_past_due</th>\n",
              "      <th>loan_status_description</th>\n",
              "      <th>data_source</th>\n",
              "    </tr>\n",
              "  </thead>\n",
              "  <tbody>\n",
              "    <tr>\n",
              "      <th>0</th>\n",
              "      <td>10149342</td>\n",
              "      <td>27050.0</td>\n",
              "      <td>36</td>\n",
              "      <td>0.1099</td>\n",
              "      <td>885.46</td>\n",
              "      <td>B</td>\n",
              "      <td>2013-12-01T00:00</td>\n",
              "      <td>debt_consolidation</td>\n",
              "      <td>0.0</td>\n",
              "      <td>27050.0</td>\n",
              "      <td>4702.53</td>\n",
              "      <td>0.0</td>\n",
              "      <td>0.0</td>\n",
              "      <td>2016-07-01T00:00</td>\n",
              "      <td>2016-08-01T00:00</td>\n",
              "      <td>0</td>\n",
              "      <td>COMPLETED</td>\n",
              "      <td>Lending Club</td>\n",
              "    </tr>\n",
              "    <tr>\n",
              "      <th>1</th>\n",
              "      <td>10149488</td>\n",
              "      <td>4800.0</td>\n",
              "      <td>36</td>\n",
              "      <td>0.1099</td>\n",
              "      <td>157.13</td>\n",
              "      <td>B</td>\n",
              "      <td>2013-12-01T00:00</td>\n",
              "      <td>home_improvement</td>\n",
              "      <td>0.0</td>\n",
              "      <td>4800.0</td>\n",
              "      <td>357.52</td>\n",
              "      <td>0.0</td>\n",
              "      <td>0.0</td>\n",
              "      <td>2014-09-01T00:00</td>\n",
              "      <td>2014-10-01T00:00</td>\n",
              "      <td>0</td>\n",
              "      <td>COMPLETED</td>\n",
              "      <td>Lending Club</td>\n",
              "    </tr>\n",
              "    <tr>\n",
              "      <th>2</th>\n",
              "      <td>10148122</td>\n",
              "      <td>12000.0</td>\n",
              "      <td>36</td>\n",
              "      <td>0.0762</td>\n",
              "      <td>373.94</td>\n",
              "      <td>A</td>\n",
              "      <td>2013-12-01T00:00</td>\n",
              "      <td>debt_consolidation</td>\n",
              "      <td>0.0</td>\n",
              "      <td>12000.0</td>\n",
              "      <td>1397.54</td>\n",
              "      <td>0.0</td>\n",
              "      <td>0.0</td>\n",
              "      <td>2016-06-01T00:00</td>\n",
              "      <td>2016-07-01T00:00</td>\n",
              "      <td>0</td>\n",
              "      <td>COMPLETED</td>\n",
              "      <td>Lending Club</td>\n",
              "    </tr>\n",
              "    <tr>\n",
              "      <th>3</th>\n",
              "      <td>10119623</td>\n",
              "      <td>12000.0</td>\n",
              "      <td>36</td>\n",
              "      <td>0.1199</td>\n",
              "      <td>398.52</td>\n",
              "      <td>B</td>\n",
              "      <td>2013-12-01T00:00</td>\n",
              "      <td>debt_consolidation</td>\n",
              "      <td>0.0</td>\n",
              "      <td>12000.0</td>\n",
              "      <td>2346.48</td>\n",
              "      <td>0.0</td>\n",
              "      <td>0.0</td>\n",
              "      <td>2017-01-01T00:00</td>\n",
              "      <td>2017-02-01T00:00</td>\n",
              "      <td>0</td>\n",
              "      <td>COMPLETED</td>\n",
              "      <td>Lending Club</td>\n",
              "    </tr>\n",
              "    <tr>\n",
              "      <th>4</th>\n",
              "      <td>10159498</td>\n",
              "      <td>12000.0</td>\n",
              "      <td>36</td>\n",
              "      <td>0.0662</td>\n",
              "      <td>368.45</td>\n",
              "      <td>A</td>\n",
              "      <td>2013-12-01T00:00</td>\n",
              "      <td>debt_consolidation</td>\n",
              "      <td>0.0</td>\n",
              "      <td>12000.0</td>\n",
              "      <td>1263.95</td>\n",
              "      <td>0.0</td>\n",
              "      <td>0.0</td>\n",
              "      <td>2017-01-01T00:00</td>\n",
              "      <td>2017-02-01T00:00</td>\n",
              "      <td>0</td>\n",
              "      <td>COMPLETED</td>\n",
              "      <td>Lending Club</td>\n",
              "    </tr>\n",
              "  </tbody>\n",
              "</table>\n",
              "</div>\n",
              "    <div class=\"colab-df-buttons\">\n",
              "\n",
              "  <div class=\"colab-df-container\">\n",
              "    <button class=\"colab-df-convert\" onclick=\"convertToInteractive('df-7f99a166-31e1-41e7-9d1b-e52f76819113')\"\n",
              "            title=\"Convert this dataframe to an interactive table.\"\n",
              "            style=\"display:none;\">\n",
              "\n",
              "  <svg xmlns=\"http://www.w3.org/2000/svg\" height=\"24px\" viewBox=\"0 -960 960 960\">\n",
              "    <path d=\"M120-120v-720h720v720H120Zm60-500h600v-160H180v160Zm220 220h160v-160H400v160Zm0 220h160v-160H400v160ZM180-400h160v-160H180v160Zm440 0h160v-160H620v160ZM180-180h160v-160H180v160Zm440 0h160v-160H620v160Z\"/>\n",
              "  </svg>\n",
              "    </button>\n",
              "\n",
              "  <style>\n",
              "    .colab-df-container {\n",
              "      display:flex;\n",
              "      gap: 12px;\n",
              "    }\n",
              "\n",
              "    .colab-df-convert {\n",
              "      background-color: #E8F0FE;\n",
              "      border: none;\n",
              "      border-radius: 50%;\n",
              "      cursor: pointer;\n",
              "      display: none;\n",
              "      fill: #1967D2;\n",
              "      height: 32px;\n",
              "      padding: 0 0 0 0;\n",
              "      width: 32px;\n",
              "    }\n",
              "\n",
              "    .colab-df-convert:hover {\n",
              "      background-color: #E2EBFA;\n",
              "      box-shadow: 0px 1px 2px rgba(60, 64, 67, 0.3), 0px 1px 3px 1px rgba(60, 64, 67, 0.15);\n",
              "      fill: #174EA6;\n",
              "    }\n",
              "\n",
              "    .colab-df-buttons div {\n",
              "      margin-bottom: 4px;\n",
              "    }\n",
              "\n",
              "    [theme=dark] .colab-df-convert {\n",
              "      background-color: #3B4455;\n",
              "      fill: #D2E3FC;\n",
              "    }\n",
              "\n",
              "    [theme=dark] .colab-df-convert:hover {\n",
              "      background-color: #434B5C;\n",
              "      box-shadow: 0px 1px 3px 1px rgba(0, 0, 0, 0.15);\n",
              "      filter: drop-shadow(0px 1px 2px rgba(0, 0, 0, 0.3));\n",
              "      fill: #FFFFFF;\n",
              "    }\n",
              "  </style>\n",
              "\n",
              "    <script>\n",
              "      const buttonEl =\n",
              "        document.querySelector('#df-7f99a166-31e1-41e7-9d1b-e52f76819113 button.colab-df-convert');\n",
              "      buttonEl.style.display =\n",
              "        google.colab.kernel.accessAllowed ? 'block' : 'none';\n",
              "\n",
              "      async function convertToInteractive(key) {\n",
              "        const element = document.querySelector('#df-7f99a166-31e1-41e7-9d1b-e52f76819113');\n",
              "        const dataTable =\n",
              "          await google.colab.kernel.invokeFunction('convertToInteractive',\n",
              "                                                    [key], {});\n",
              "        if (!dataTable) return;\n",
              "\n",
              "        const docLinkHtml = 'Like what you see? Visit the ' +\n",
              "          '<a target=\"_blank\" href=https://colab.research.google.com/notebooks/data_table.ipynb>data table notebook</a>'\n",
              "          + ' to learn more about interactive tables.';\n",
              "        element.innerHTML = '';\n",
              "        dataTable['output_type'] = 'display_data';\n",
              "        await google.colab.output.renderOutput(dataTable, element);\n",
              "        const docLink = document.createElement('div');\n",
              "        docLink.innerHTML = docLinkHtml;\n",
              "        element.appendChild(docLink);\n",
              "      }\n",
              "    </script>\n",
              "  </div>\n",
              "\n",
              "\n",
              "<div id=\"df-8ed6f143-6ee1-4db3-9b4b-ec47eea5bc7c\">\n",
              "  <button class=\"colab-df-quickchart\" onclick=\"quickchart('df-8ed6f143-6ee1-4db3-9b4b-ec47eea5bc7c')\"\n",
              "            title=\"Suggest charts\"\n",
              "            style=\"display:none;\">\n",
              "\n",
              "<svg xmlns=\"http://www.w3.org/2000/svg\" height=\"24px\"viewBox=\"0 0 24 24\"\n",
              "     width=\"24px\">\n",
              "    <g>\n",
              "        <path d=\"M19 3H5c-1.1 0-2 .9-2 2v14c0 1.1.9 2 2 2h14c1.1 0 2-.9 2-2V5c0-1.1-.9-2-2-2zM9 17H7v-7h2v7zm4 0h-2V7h2v10zm4 0h-2v-4h2v4z\"/>\n",
              "    </g>\n",
              "</svg>\n",
              "  </button>\n",
              "\n",
              "<style>\n",
              "  .colab-df-quickchart {\n",
              "      --bg-color: #E8F0FE;\n",
              "      --fill-color: #1967D2;\n",
              "      --hover-bg-color: #E2EBFA;\n",
              "      --hover-fill-color: #174EA6;\n",
              "      --disabled-fill-color: #AAA;\n",
              "      --disabled-bg-color: #DDD;\n",
              "  }\n",
              "\n",
              "  [theme=dark] .colab-df-quickchart {\n",
              "      --bg-color: #3B4455;\n",
              "      --fill-color: #D2E3FC;\n",
              "      --hover-bg-color: #434B5C;\n",
              "      --hover-fill-color: #FFFFFF;\n",
              "      --disabled-bg-color: #3B4455;\n",
              "      --disabled-fill-color: #666;\n",
              "  }\n",
              "\n",
              "  .colab-df-quickchart {\n",
              "    background-color: var(--bg-color);\n",
              "    border: none;\n",
              "    border-radius: 50%;\n",
              "    cursor: pointer;\n",
              "    display: none;\n",
              "    fill: var(--fill-color);\n",
              "    height: 32px;\n",
              "    padding: 0;\n",
              "    width: 32px;\n",
              "  }\n",
              "\n",
              "  .colab-df-quickchart:hover {\n",
              "    background-color: var(--hover-bg-color);\n",
              "    box-shadow: 0 1px 2px rgba(60, 64, 67, 0.3), 0 1px 3px 1px rgba(60, 64, 67, 0.15);\n",
              "    fill: var(--button-hover-fill-color);\n",
              "  }\n",
              "\n",
              "  .colab-df-quickchart-complete:disabled,\n",
              "  .colab-df-quickchart-complete:disabled:hover {\n",
              "    background-color: var(--disabled-bg-color);\n",
              "    fill: var(--disabled-fill-color);\n",
              "    box-shadow: none;\n",
              "  }\n",
              "\n",
              "  .colab-df-spinner {\n",
              "    border: 2px solid var(--fill-color);\n",
              "    border-color: transparent;\n",
              "    border-bottom-color: var(--fill-color);\n",
              "    animation:\n",
              "      spin 1s steps(1) infinite;\n",
              "  }\n",
              "\n",
              "  @keyframes spin {\n",
              "    0% {\n",
              "      border-color: transparent;\n",
              "      border-bottom-color: var(--fill-color);\n",
              "      border-left-color: var(--fill-color);\n",
              "    }\n",
              "    20% {\n",
              "      border-color: transparent;\n",
              "      border-left-color: var(--fill-color);\n",
              "      border-top-color: var(--fill-color);\n",
              "    }\n",
              "    30% {\n",
              "      border-color: transparent;\n",
              "      border-left-color: var(--fill-color);\n",
              "      border-top-color: var(--fill-color);\n",
              "      border-right-color: var(--fill-color);\n",
              "    }\n",
              "    40% {\n",
              "      border-color: transparent;\n",
              "      border-right-color: var(--fill-color);\n",
              "      border-top-color: var(--fill-color);\n",
              "    }\n",
              "    60% {\n",
              "      border-color: transparent;\n",
              "      border-right-color: var(--fill-color);\n",
              "    }\n",
              "    80% {\n",
              "      border-color: transparent;\n",
              "      border-right-color: var(--fill-color);\n",
              "      border-bottom-color: var(--fill-color);\n",
              "    }\n",
              "    90% {\n",
              "      border-color: transparent;\n",
              "      border-bottom-color: var(--fill-color);\n",
              "    }\n",
              "  }\n",
              "</style>\n",
              "\n",
              "  <script>\n",
              "    async function quickchart(key) {\n",
              "      const quickchartButtonEl =\n",
              "        document.querySelector('#' + key + ' button');\n",
              "      quickchartButtonEl.disabled = true;  // To prevent multiple clicks.\n",
              "      quickchartButtonEl.classList.add('colab-df-spinner');\n",
              "      try {\n",
              "        const charts = await google.colab.kernel.invokeFunction(\n",
              "            'suggestCharts', [key], {});\n",
              "      } catch (error) {\n",
              "        console.error('Error during call to suggestCharts:', error);\n",
              "      }\n",
              "      quickchartButtonEl.classList.remove('colab-df-spinner');\n",
              "      quickchartButtonEl.classList.add('colab-df-quickchart-complete');\n",
              "    }\n",
              "    (() => {\n",
              "      let quickchartButtonEl =\n",
              "        document.querySelector('#df-8ed6f143-6ee1-4db3-9b4b-ec47eea5bc7c button');\n",
              "      quickchartButtonEl.style.display =\n",
              "        google.colab.kernel.accessAllowed ? 'block' : 'none';\n",
              "    })();\n",
              "  </script>\n",
              "</div>\n",
              "\n",
              "    </div>\n",
              "  </div>\n"
            ],
            "application/vnd.google.colaboratory.intrinsic+json": {
              "type": "dataframe",
              "variable_name": "df"
            }
          },
          "metadata": {},
          "execution_count": 66
        }
      ],
      "source": [
        "df.head()"
      ]
    },
    {
      "cell_type": "code",
      "execution_count": 67,
      "metadata": {
        "id": "yHM5-knIDzoU"
      },
      "outputs": [],
      "source": [
        "df = df.dropna() #removes rows with missing values from the dataframe"
      ]
    },
    {
      "cell_type": "code",
      "execution_count": 68,
      "metadata": {
        "id": "yn3lePJuENea"
      },
      "outputs": [],
      "source": [
        "df['origination_date'] = pd.to_datetime(df['origination_date'], errors='coerce', utc=True) #convert orgination date to datetime object\n",
        "df['last_payment_date'] = pd.to_datetime(df['last_payment_date'], errors='coerce', utc=True)\n",
        "df['loan_age'] = (df['last_payment_date'] - df['origination_date']).dt.days / 365 # Calculates the loan age in years by subtracting origination date from last payment date."
      ]
    },
    {
      "cell_type": "code",
      "execution_count": 69,
      "metadata": {
        "id": "FCzVDN7nBezJ"
      },
      "outputs": [],
      "source": [
        "selected_features = ['amount_borrowed', 'term', 'borrower_rate', 'installment','principal_paid', 'interest_paid',  'loan_age']"
      ]
    },
    {
      "cell_type": "code",
      "execution_count": 70,
      "metadata": {
        "id": "7XHMormdEQ0v"
      },
      "outputs": [],
      "source": [
        "le = LabelEncoder()\n",
        "df['grade'] = le.fit_transform(df['grade'])  # 'A'-'G' -> 0-6\n",
        "\n",
        "X = df[selected_features]\n",
        "\n",
        "y = df['grade']"
      ]
    },
    {
      "cell_type": "code",
      "execution_count": 71,
      "metadata": {
        "id": "V5SGn29RnLm_"
      },
      "outputs": [],
      "source": [
        "numerical_transformer = StandardScaler() #Scales numerical features to have zero mean and unit variance\n",
        "categorical_transformer = OneHotEncoder() #Converts categorical features into numerical representations using one-hot encoding."
      ]
    },
    {
      "cell_type": "code",
      "execution_count": 72,
      "metadata": {
        "id": "MZruz5bOARmE"
      },
      "outputs": [],
      "source": [
        "preprocessor = ColumnTransformer(\n",
        "    transformers=[\n",
        "        ('num', numerical_transformer, selected_features)\n",
        "    ])"
      ]
    },
    {
      "cell_type": "code",
      "execution_count": 73,
      "metadata": {
        "id": "nDg4_DpECFWX"
      },
      "outputs": [],
      "source": [
        "X_train, X_test, y_train, y_test = train_test_split(X, y, stratify=y, test_size=0.2, random_state=42)"
      ]
    },
    {
      "cell_type": "code",
      "execution_count": 74,
      "metadata": {
        "id": "y5ddKXRBCJwo"
      },
      "outputs": [],
      "source": [
        "#RandomForestClassifier\n",
        "\n",
        "rfc_pipeline = Pipeline(steps=[\n",
        "    ('preprocessor', preprocessor),\n",
        "    ('classifier', RandomForestClassifier(n_estimators=200, max_depth=10, random_state=42))\n",
        "])"
      ]
    },
    {
      "cell_type": "code",
      "execution_count": 75,
      "metadata": {
        "id": "g4Jh8UFtT5Mi"
      },
      "outputs": [],
      "source": [
        "rfc_pipeline.fit(X_train, y_train)\n",
        "rfc_preds = rfc_pipeline.predict(X_test)"
      ]
    },
    {
      "cell_type": "code",
      "execution_count": 76,
      "metadata": {
        "id": "TeAEDRl1DYzK",
        "colab": {
          "base_uri": "https://localhost:8080/",
          "height": 750
        },
        "outputId": "8ed40b00-4125-48d1-9cd5-25635878499e"
      },
      "outputs": [
        {
          "output_type": "stream",
          "name": "stdout",
          "text": [
            "📘 RandomForest Classification Report:\n",
            "              precision    recall  f1-score   support\n",
            "\n",
            "           A       1.00      0.94      0.97     70377\n",
            "           B       0.94      0.93      0.94    117489\n",
            "           C       0.91      0.95      0.93    117939\n",
            "           D       0.85      0.90      0.88     59334\n",
            "           E       0.77      0.73      0.75     25829\n",
            "           F       0.80      0.60      0.68      8796\n",
            "           G       0.99      0.39      0.56      2650\n",
            "\n",
            "    accuracy                           0.91    402414\n",
            "   macro avg       0.89      0.78      0.81    402414\n",
            "weighted avg       0.91      0.91      0.91    402414\n",
            "\n",
            "Accuracy: 0.9119861635032578\n"
          ]
        },
        {
          "output_type": "display_data",
          "data": {
            "text/plain": [
              "<Figure size 640x480 with 2 Axes>"
            ],
            "image/png": "[encoded data removed]"
          },
          "metadata": {}
        }
      ],
      "source": [
        "print(\"RandomForest Classification Report:\")\n",
        "print(classification_report(y_test, rfc_preds, target_names=le.classes_))\n",
        "print(\"Accuracy:\", accuracy_score(y_test, rfc_preds))\n",
        "sns.heatmap(confusion_matrix(y_test, rfc_preds), annot=True, fmt='d', cmap='Blues',\n",
        "            xticklabels=le.classes_, yticklabels=le.classes_)\n",
        "plt.title(\"RandomForest Confusion Matrix\")\n",
        "plt.xlabel(\"Predicted\")\n",
        "plt.ylabel(\"Actual\")\n",
        "plt.show()"
      ]
    },
    {
      "cell_type": "code",
      "execution_count": 77,
      "metadata": {
        "id": "0HahIkj_DfAl"
      },
      "outputs": [],
      "source": [
        "# XGBoostClassifier\n",
        "xgb_pipeline = Pipeline(steps=[\n",
        "    ('preprocessor', preprocessor),\n",
        "    ('classifier', XGBClassifier(use_label_encoder=False, eval_metric='mlogloss',\n",
        "                                 n_estimators=200, max_depth=10, learning_rate=0.1, random_state=42))\n",
        "])"
      ]
    },
    {
      "cell_type": "code",
      "source": [
        "xgb_pipeline.fit(X_train, y_train)\n",
        "xgb_preds = xgb_pipeline.predict(X_test)"
      ],
      "metadata": {
        "colab": {
          "base_uri": "https://localhost:8080/"
        },
        "id": "zpGFf-lN7g3Q",
        "outputId": "dee77adc-4661-467b-e98c-820d1c30cb85"
      },
      "execution_count": 78,
      "outputs": [
        {
          "output_type": "stream",
          "name": "stderr",
          "text": [
            "/usr/local/lib/python3.11/dist-packages/xgboost/core.py:158: UserWarning: [00:48:10] WARNING: /workspace/src/learner.cc:740: \n",
            "Parameters: { \"use_label_encoder\" } are not used.\n",
            "\n",
            "  warnings.warn(smsg, UserWarning)\n"
          ]
        }
      ]
    },
    {
      "cell_type": "code",
      "execution_count": 79,
      "metadata": {
        "id": "IYhnZLTLDncL",
        "colab": {
          "base_uri": "https://localhost:8080/",
          "height": 767
        },
        "outputId": "88dd1f25-646c-406a-84fc-087100befc74"
      },
      "outputs": [
        {
          "output_type": "stream",
          "name": "stdout",
          "text": [
            "\n",
            "📙 XGBoost Classification Report:\n",
            "              precision    recall  f1-score   support\n",
            "\n",
            "           A       1.00      0.99      1.00     70377\n",
            "           B       0.98      0.97      0.98    117489\n",
            "           C       0.96      0.96      0.96    117939\n",
            "           D       0.91      0.95      0.93     59334\n",
            "           E       0.88      0.87      0.87     25829\n",
            "           F       0.84      0.80      0.82      8796\n",
            "           G       0.79      0.71      0.75      2650\n",
            "\n",
            "    accuracy                           0.96    402414\n",
            "   macro avg       0.91      0.89      0.90    402414\n",
            "weighted avg       0.96      0.96      0.96    402414\n",
            "\n",
            "Accuracy: 0.9573076483422545\n"
          ]
        },
        {
          "output_type": "display_data",
          "data": {
            "text/plain": [
              "<Figure size 640x480 with 2 Axes>"
            ],
            "image/png": "[encoded data removed]"
          },
          "metadata": {}
        }
      ],
      "source": [
        "print(\"\\n XGBoost Classification Report:\")\n",
        "print(classification_report(y_test, xgb_preds, target_names=le.classes_))\n",
        "print(\"Accuracy:\", accuracy_score(y_test, xgb_preds))\n",
        "sns.heatmap(confusion_matrix(y_test, xgb_preds), annot=True, fmt='d', cmap='Greens',\n",
        "            xticklabels=le.classes_, yticklabels=le.classes_)\n",
        "plt.title(\"XGBoost Confusion Matrix\")\n",
        "plt.xlabel(\"Predicted\")\n",
        "plt.ylabel(\"Actual\")\n",
        "plt.show()"
      ]
    },
    {
      "cell_type": "code",
      "source": [
        "#  Pipelines\n",
        "joblib.dump(rfc_pipeline, '/content/rfc_grade_model_pipeline.joblib')"
      ],
      "metadata": {
        "colab": {
          "base_uri": "https://localhost:8080/"
        },
        "id": "xEedG3I_EYBt",
        "outputId": "8693af75-2bdc-4461-cc3f-4c5b3ed18f8b"
      },
      "execution_count": 80,
      "outputs": [
        {
          "output_type": "execute_result",
          "data": {
            "text/plain": [
              "['/content/rfc_grade_model_pipeline.joblib']"
            ]
          },
          "metadata": {},
          "execution_count": 80
        }
      ]
    },
    {
      "cell_type": "code",
      "source": [
        "# Save XGBoost pipeline\n",
        "joblib.dump(xgb_pipeline, '/content/xgb_grade_model_pipeline.joblib')"
      ],
      "metadata": {
        "colab": {
          "base_uri": "https://localhost:8080/"
        },
        "id": "fKYBZ81ACt_f",
        "outputId": "22c3f872-291c-46cf-f0a7-af55f7ddf0b1"
      },
      "execution_count": 81,
      "outputs": [
        {
          "output_type": "execute_result",
          "data": {
            "text/plain": [
              "['/content/xgb_grade_model_pipeline.joblib']"
            ]
          },
          "metadata": {},
          "execution_count": 81
        }
      ]
    },
    {
      "cell_type": "code",
      "source": [
        "# Extract and Save Scaler Separately\n",
        "scaler_from_pipeline = rfc_pipeline['preprocessor'].transformers_[0][1]\n",
        "joblib.dump(scaler_from_pipeline, '/content/grade_scaler.joblib')"
      ],
      "metadata": {
        "colab": {
          "base_uri": "https://localhost:8080/"
        },
        "id": "acA2HEm8Eghe",
        "outputId": "e3d6d57a-46a1-48f7-da79-cb3b3fdb08e5"
      },
      "execution_count": 82,
      "outputs": [
        {
          "output_type": "execute_result",
          "data": {
            "text/plain": [
              "['/content/grade_scaler.joblib']"
            ]
          },
          "metadata": {},
          "execution_count": 82
        }
      ]
    },
    {
      "cell_type": "code",
      "source": [
        "from google.colab import files\n",
        "files.download('/content/rfc_grade_model_pipeline.joblib')\n",
        "files.download('/content/xgb_grade_model_pipeline.joblib')\n",
        "files.download('/content/grade_scaler.joblib')"
      ],
      "metadata": {
        "colab": {
          "base_uri": "https://localhost:8080/",
          "height": 17
        },
        "id": "OPMKn_q7B6le",
        "outputId": "1203fd9f-beca-40f9-b460-2d7d0e09b6d1"
      },
      "execution_count": 83,
      "outputs": [
        {
          "output_type": "display_data",
          "data": {
            "text/plain": [
              "<IPython.core.display.Javascript object>"
            ],
            "application/javascript": [
              "\n",
              "    async function download(id, filename, size) {\n",
              "      if (!google.colab.kernel.accessAllowed) {\n",
              "        return;\n",
              "      }\n",
              "      const div = document.createElement('div');\n",
              "      const label = document.createElement('label');\n",
              "      label.textContent = `Downloading \"${filename}\": `;\n",
              "      div.appendChild(label);\n",
              "      const progress = document.createElement('progress');\n",
              "      progress.max = size;\n",
              "      div.appendChild(progress);\n",
              "      document.body.appendChild(div);\n",
              "\n",
              "      const buffers = [];\n",
              "      let downloaded = 0;\n",
              "\n",
              "      const channel = await google.colab.kernel.comms.open(id);\n",
              "      // Send a message to notify the kernel that we're ready.\n",
              "      channel.send({})\n",
              "\n",
              "      for await (const message of channel.messages) {\n",
              "        // Send a message to notify the kernel that we're ready.\n",
              "        channel.send({})\n",
              "        if (message.buffers) {\n",
              "          for (const buffer of message.buffers) {\n",
              "            buffers.push(buffer);\n",
              "            downloaded += buffer.byteLength;\n",
              "            progress.value = downloaded;\n",
              "          }\n",
              "        }\n",
              "      }\n",
              "      const blob = new Blob(buffers, {type: 'application/binary'});\n",
              "      const a = document.createElement('a');\n",
              "      a.href = window.URL.createObjectURL(blob);\n",
              "      a.download = filename;\n",
              "      div.appendChild(a);\n",
              "      a.click();\n",
              "      div.remove();\n",
              "    }\n",
              "  "
            ]
          },
          "metadata": {}
        },
        {
          "output_type": "display_data",
          "data": {
            "text/plain": [
              "<IPython.core.display.Javascript object>"
            ],
            "application/javascript": [
              "download(\"download_7514bc6a-249f-4e6e-9aa8-973d941ac7a5\", \"rfc_grade_model_pipeline.joblib\", 36432186)"
            ]
          },
          "metadata": {}
        },
        {
          "output_type": "display_data",
          "data": {
            "text/plain": [
              "<IPython.core.display.Javascript object>"
            ],
            "application/javascript": [
              "\n",
              "    async function download(id, filename, size) {\n",
              "      if (!google.colab.kernel.accessAllowed) {\n",
              "        return;\n",
              "      }\n",
              "      const div = document.createElement('div');\n",
              "      const label = document.createElement('label');\n",
              "      label.textContent = `Downloading \"${filename}\": `;\n",
              "      div.appendChild(label);\n",
              "      const progress = document.createElement('progress');\n",
              "      progress.max = size;\n",
              "      div.appendChild(progress);\n",
              "      document.body.appendChild(div);\n",
              "\n",
              "      const buffers = [];\n",
              "      let downloaded = 0;\n",
              "\n",
              "      const channel = await google.colab.kernel.comms.open(id);\n",
              "      // Send a message to notify the kernel that we're ready.\n",
              "      channel.send({})\n",
              "\n",
              "      for await (const message of channel.messages) {\n",
              "        // Send a message to notify the kernel that we're ready.\n",
              "        channel.send({})\n",
              "        if (message.buffers) {\n",
              "          for (const buffer of message.buffers) {\n",
              "            buffers.push(buffer);\n",
              "            downloaded += buffer.byteLength;\n",
              "            progress.value = downloaded;\n",
              "          }\n",
              "        }\n",
              "      }\n",
              "      const blob = new Blob(buffers, {type: 'application/binary'});\n",
              "      const a = document.createElement('a');\n",
              "      a.href = window.URL.createObjectURL(blob);\n",
              "      a.download = filename;\n",
              "      div.appendChild(a);\n",
              "      a.click();\n",
              "      div.remove();\n",
              "    }\n",
              "  "
            ]
          },
          "metadata": {}
        },
        {
          "output_type": "display_data",
          "data": {
            "text/plain": [
              "<IPython.core.display.Javascript object>"
            ],
            "application/javascript": [
              "download(\"download_acef1af7-b6bb-4fe0-98a7-17c9e0adf938\", \"xgb_grade_model_pipeline.joblib\", 18807315)"
            ]
          },
          "metadata": {}
        },
        {
          "output_type": "display_data",
          "data": {
            "text/plain": [
              "<IPython.core.display.Javascript object>"
            ],
            "application/javascript": [
              "\n",
              "    async function download(id, filename, size) {\n",
              "      if (!google.colab.kernel.accessAllowed) {\n",
              "        return;\n",
              "      }\n",
              "      const div = document.createElement('div');\n",
              "      const label = document.createElement('label');\n",
              "      label.textContent = `Downloading \"${filename}\": `;\n",
              "      div.appendChild(label);\n",
              "      const progress = document.createElement('progress');\n",
              "      progress.max = size;\n",
              "      div.appendChild(progress);\n",
              "      document.body.appendChild(div);\n",
              "\n",
              "      const buffers = [];\n",
              "      let downloaded = 0;\n",
              "\n",
              "      const channel = await google.colab.kernel.comms.open(id);\n",
              "      // Send a message to notify the kernel that we're ready.\n",
              "      channel.send({})\n",
              "\n",
              "      for await (const message of channel.messages) {\n",
              "        // Send a message to notify the kernel that we're ready.\n",
              "        channel.send({})\n",
              "        if (message.buffers) {\n",
              "          for (const buffer of message.buffers) {\n",
              "            buffers.push(buffer);\n",
              "            downloaded += buffer.byteLength;\n",
              "            progress.value = downloaded;\n",
              "          }\n",
              "        }\n",
              "      }\n",
              "      const blob = new Blob(buffers, {type: 'application/binary'});\n",
              "      const a = document.createElement('a');\n",
              "      a.href = window.URL.createObjectURL(blob);\n",
              "      a.download = filename;\n",
              "      div.appendChild(a);\n",
              "      a.click();\n",
              "      div.remove();\n",
              "    }\n",
              "  "
            ]
          },
          "metadata": {}
        },
        {
          "output_type": "display_data",
          "data": {
            "text/plain": [
              "<IPython.core.display.Javascript object>"
            ],
            "application/javascript": [
              "download(\"download_1d674d7a-dc97-4cd3-ab2c-95b00d7a4a15\", \"grade_scaler.joblib\", 1247)"
            ]
          },
          "metadata": {}
        }
      ]
    },
    {
      "cell_type": "code",
      "source": [
        "X_transformed = preprocessor.transform(X_test)  # preprocessed input data\n",
        "model_xgb = xgb_pipeline.named_steps['classifier']  # raw XGBoost model"
      ],
      "metadata": {
        "id": "HuTBWpo1Jg4v"
      },
      "execution_count": 84,
      "outputs": []
    },
    {
      "cell_type": "code",
      "source": [
        "# Create SHAP explainer\n",
        "explainer = shap.Explainer(model_xgb)\n",
        "shap_values = explainer(X_transformed)"
      ],
      "metadata": {
        "id": "qtmU_700Jhlm"
      },
      "execution_count": null,
      "outputs": []
    },
    {
      "cell_type": "code",
      "source": [
        "# Plot SHAP summary\n",
        "shap.summary_plot(shap_values, features=X_transformed, feature_names=selected_features)"
      ],
      "metadata": {
        "id": "uQr11doNJkty"
      },
      "execution_count": null,
      "outputs": []
    },
    {
      "cell_type": "code",
      "source": [
        "# SHAP bar plot (mean absolute SHAP values)\n",
        "shap.plots.bar(shap_values)"
      ],
      "metadata": {
        "id": "QWNl6xLuKDrf"
      },
      "execution_count": null,
      "outputs": []
    },
    {
      "cell_type": "code",
      "source": [],
      "metadata": {
        "id": "B3J9JhTQKGi3"
      },
      "execution_count": null,
      "outputs": []
    }
  ],
  "metadata": {
    "colab": {
      "provenance": []
    },
    "kernelspec": {
      "display_name": "Python 3",
      "name": "python3"
    },
    "language_info": {
      "name": "python"
    }
  },
  "nbformat": 4,
  "nbformat_minor": 0
}